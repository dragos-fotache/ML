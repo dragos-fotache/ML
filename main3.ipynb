{
 "cells": [
  {
   "cell_type": "code",
   "execution_count": null,
   "id": "8b35789e",
   "metadata": {},
   "outputs": [
    {
     "name": "stdout",
     "output_type": "stream",
     "text": [
      "4.445833981123393\n",
      "4.4\n"
     ]
    },
    {
     "data": {
      "text/plain": [
       "np.float64(4.445833981123393)"
      ]
     },
     "execution_count": 14,
     "metadata": {},
     "output_type": "execute_result"
    }
   ],
   "source": [
    "import numpy as np\n",
    "import pandas as pd\n",
    "from scipy.stats import trim_mean\n",
    "import wquantiles as wq\n",
    "\n",
    "state = pd.read_csv('data/state.csv')\n",
    "\n",
    "print(np.average(state['Murder.Rate'], weights=state['Population']))\n",
    "print(wq.median(state['Murder.Rate'], weights=state['Population']))\n"
   ]
  }
 ],
 "metadata": {
  "kernelspec": {
   "display_name": ".venv",
   "language": "python",
   "name": "python3"
  },
  "language_info": {
   "codemirror_mode": {
    "name": "ipython",
    "version": 3
   },
   "file_extension": ".py",
   "mimetype": "text/x-python",
   "name": "python",
   "nbconvert_exporter": "python",
   "pygments_lexer": "ipython3",
   "version": "3.10.12"
  }
 },
 "nbformat": 4,
 "nbformat_minor": 5
}
